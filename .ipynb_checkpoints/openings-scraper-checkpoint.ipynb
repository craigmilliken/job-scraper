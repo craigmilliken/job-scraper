{
 "cells": [
  {
   "cell_type": "code",
   "execution_count": 2,
   "id": "d2c0f113-30b6-4310-ad7f-50ee48bb15aa",
   "metadata": {},
   "outputs": [
    {
     "name": "stdout",
     "output_type": "stream",
     "text": [
      "zsh:1: no such file or directory: /Library/Frameworks/Python.framework/Versions/3.11/bin/python3\n"
     ]
    }
   ],
   "source": [
    "! ./Library/Frameworks/Python.framework/Versions/3.11/bin/python3 -m pip install pandas"
   ]
  },
  {
   "cell_type": "code",
   "execution_count": 1,
   "id": "a4512a21-de10-4113-8a99-3701d6e3742c",
   "metadata": {},
   "outputs": [
    {
     "ename": "ModuleNotFoundError",
     "evalue": "No module named 'pandas'",
     "output_type": "error",
     "traceback": [
      "\u001b[0;31m---------------------------------------------------------------------------\u001b[0m",
      "\u001b[0;31mModuleNotFoundError\u001b[0m                       Traceback (most recent call last)",
      "Cell \u001b[0;32mIn[1], line 4\u001b[0m\n\u001b[1;32m      2\u001b[0m \u001b[38;5;28;01mfrom\u001b[39;00m \u001b[38;5;21;01mbs4\u001b[39;00m \u001b[38;5;28;01mimport\u001b[39;00m BeautifulSoup\n\u001b[1;32m      3\u001b[0m \u001b[38;5;28;01mimport\u001b[39;00m \u001b[38;5;21;01mrandom\u001b[39;00m\n\u001b[0;32m----> 4\u001b[0m \u001b[38;5;28;01mimport\u001b[39;00m \u001b[38;5;21;01mpandas\u001b[39;00m \u001b[38;5;28;01mas\u001b[39;00m \u001b[38;5;21;01mpd\u001b[39;00m\n",
      "\u001b[0;31mModuleNotFoundError\u001b[0m: No module named 'pandas'"
     ]
    }
   ],
   "source": [
    "import requests \n",
    "from bs4 import BeautifulSoup\n",
    "import random\n",
    "import pandas as pd"
   ]
  },
  {
   "cell_type": "code",
   "execution_count": null,
   "id": "e4070b72-3c66-4397-8fc4-e40363afa69c",
   "metadata": {},
   "outputs": [],
   "source": [
    "title = \"Product Manager\"\n",
    "location = \"United States\""
   ]
  },
  {
   "cell_type": "code",
   "execution_count": null,
   "id": "4be0511b-6efe-4a96-9a5c-a4e3fd48c886",
   "metadata": {},
   "outputs": [],
   "source": [
    "list_url = \"https://www.linkedin.com/jobs-guest/jobs/api/seeMoreJobPostings/search?keywords=Product%2BManager&location=United%2BStates&start=120\"\n",
    "\n",
    "response = requests.get(list_url)\n",
    "\n",
    "list_data = response.text\n",
    "list_soup = BeautifulSoup(list_data, \"html.parser\")\n",
    "page_jobs = list_soup.find_all(\"li\")"
   ]
  },
  {
   "cell_type": "code",
   "execution_count": null,
   "id": "ab92b243-6236-494b-8ae0-d777a1d94d03",
   "metadata": {},
   "outputs": [],
   "source": [
    "id_list = []"
   ]
  },
  {
   "cell_type": "code",
   "execution_count": null,
   "id": "66e5a2c9-7e10-477a-a557-48645a93cfda",
   "metadata": {},
   "outputs": [],
   "source": [
    "\n",
    "for job in page_jobs:\n",
    "    base_card_div = job.find(\"div\", {\"class\": \"base-card\"})\n",
    "    job_id = base_card_div.get(\"data-entity-urn\").split(\":\")[3]\n",
    "    print(job_id)\n",
    "    id_list.append(job_id)"
   ]
  },
  {
   "cell_type": "code",
   "execution_count": null,
   "id": "21030cdc-acb8-473d-b480-4f4554ab3f25",
   "metadata": {},
   "outputs": [],
   "source": [
    "id_list"
   ]
  },
  {
   "cell_type": "code",
   "execution_count": null,
   "id": "7f68b3b9-820b-4c4d-b1bd-400ee27ce62b",
   "metadata": {},
   "outputs": [],
   "source": [
    "import time\n",
    "import requests\n",
    "from bs4 import BeautifulSoup\n",
    "\n",
    "job_list = []\n",
    "\n",
    "for job_id in id_list:\n",
    "    job_url = f\"https://www.linkedin.com/jobs-guest/jobs/api/jobPosting/{job_id}\"\n",
    "    job_response = requests.get(job_url)\n",
    "\n",
    "    if job_response.status_code == 429:\n",
    "        # If the status code is 429 (rate limit exceeded), wait for the specified time\n",
    "        retry_after = int(job_response.headers.get(\"Retry-After\", 10))  # Default to 10 seconds if header not present\n",
    "        print(f\"Rate limit exceeded. Waiting for {retry_after} seconds before retrying...\")\n",
    "        time.sleep(retry_after)\n",
    "        \n",
    "        # Make the request again\n",
    "        job_response = requests.get(job_url)\n",
    "\n",
    "    print(job_response.status_code)\n",
    "    job_soup = BeautifulSoup(job_response.text, \"html.parser\")\n",
    "    job_post = {}\n",
    "    try:\n",
    "        job_post[\"job_title\"] = job_soup.find(\"h2\", {\"class\": \"top-card-layout__title font-sans text-lg papabear:text-xl font-bold leading-open text-color-text mb-0 topcard__title\"}).text.strip()\n",
    "    except:\n",
    "        job_post[\"job_title\"] = None\n",
    "    try:\n",
    "        job_post[\"company_name\"] = job_soup.find(\"a\", {\"class\": \"topcard__org-name-link topcard__flavor--black-link\"}).text.strip()\n",
    "    except:\n",
    "        job_post[\"company_name\"] = None\n",
    "    try:\n",
    "        job_post[\"time_posted\"] = job_soup.find(\"span\", {\"class\": \"posted-time-ago__text topcard__flavor--metadata\"}).text.strip()\n",
    "    except:\n",
    "        job_post[\"time_posted\"] = None\n",
    "    try:\n",
    "        job_post[\"num_applicants\"] = job_soup.find(\"span\", {\"class\": \"num-applicants__caption topcard__flavor--metadata topcard__flavor--bullet\"}).text.strip()\n",
    "    except:\n",
    "        job_post[\"num_applicants\"] = None\n",
    "    \n",
    "    job_list.append(job_post)"
   ]
  },
  {
   "cell_type": "code",
   "execution_count": null,
   "id": "38651b8b-449e-4a6e-b60f-cc71077e02e8",
   "metadata": {},
   "outputs": [],
   "source": [
    "job_list"
   ]
  },
  {
   "cell_type": "code",
   "execution_count": null,
   "id": "6bfd5ff3-373d-452d-b7a7-f15887722897",
   "metadata": {},
   "outputs": [],
   "source": [
    "jobs_df = pd.DataFrame(job_list)\n",
    "jobs_df"
   ]
  },
  {
   "cell_type": "code",
   "execution_count": null,
   "id": "15813f41-5e2e-49f3-8dd3-dce3ef3edd45",
   "metadata": {},
   "outputs": [],
   "source": [
    "jobs_df.to_csv('United_States_Product_Manager.csv', index = False)\n"
   ]
  },
  {
   "cell_type": "code",
   "execution_count": null,
   "id": "21cbb4c2-cdda-448f-9a90-d854cf4e4704",
   "metadata": {},
   "outputs": [],
   "source": []
  }
 ],
 "metadata": {
  "kernelspec": {
   "display_name": "Python 3 (ipykernel)",
   "language": "python",
   "name": "python3"
  },
  "language_info": {
   "codemirror_mode": {
    "name": "ipython",
    "version": 3
   },
   "file_extension": ".py",
   "mimetype": "text/x-python",
   "name": "python",
   "nbconvert_exporter": "python",
   "pygments_lexer": "ipython3",
   "version": "3.12.3"
  }
 },
 "nbformat": 4,
 "nbformat_minor": 5
}
