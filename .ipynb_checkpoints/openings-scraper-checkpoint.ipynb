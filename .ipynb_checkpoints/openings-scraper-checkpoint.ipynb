{
 "cells": [
  {
   "cell_type": "code",
   "execution_count": 5,
   "id": "d2c0f113-30b6-4310-ad7f-50ee48bb15aa",
   "metadata": {
    "scrolled": true
   },
   "outputs": [
    {
     "name": "stdout",
     "output_type": "stream",
     "text": [
      "Collecting pandas\n",
      "  Downloading pandas-2.2.2-cp312-cp312-macosx_11_0_arm64.whl.metadata (19 kB)\n",
      "Requirement already satisfied: numpy>=1.26.0 in /opt/homebrew/lib/python3.12/site-packages (from pandas) (1.26.4)\n",
      "Requirement already satisfied: python-dateutil>=2.8.2 in /opt/homebrew/Cellar/jupyterlab/4.1.6_1/libexec/lib/python3.12/site-packages (from pandas) (2.9.0.post0)\n",
      "Collecting pytz>=2020.1 (from pandas)\n",
      "  Using cached pytz-2024.1-py2.py3-none-any.whl.metadata (22 kB)\n",
      "Collecting tzdata>=2022.7 (from pandas)\n",
      "  Using cached tzdata-2024.1-py2.py3-none-any.whl.metadata (1.4 kB)\n",
      "Requirement already satisfied: six>=1.5 in /opt/homebrew/Cellar/jupyterlab/4.1.6_1/libexec/lib/python3.12/site-packages (from python-dateutil>=2.8.2->pandas) (1.16.0)\n",
      "Downloading pandas-2.2.2-cp312-cp312-macosx_11_0_arm64.whl (11.3 MB)\n",
      "\u001b[2K   \u001b[38;2;114;156;31m━━━━━━━━━━━━━━━━━━━━━━━━━━━━━━━━━━━━━━━━\u001b[0m \u001b[32m11.3/11.3 MB\u001b[0m \u001b[31m26.0 MB/s\u001b[0m eta \u001b[36m0:00:00\u001b[0mm eta \u001b[36m0:00:01\u001b[0m[36m0:00:01\u001b[0m\n",
      "\u001b[?25hUsing cached pytz-2024.1-py2.py3-none-any.whl (505 kB)\n",
      "Using cached tzdata-2024.1-py2.py3-none-any.whl (345 kB)\n",
      "Installing collected packages: pytz, tzdata, pandas\n",
      "Successfully installed pandas-2.2.2 pytz-2024.1 tzdata-2024.1\n"
     ]
    }
   ],
   "source": [
    "import sys  \n",
    "!{sys.executable} -m pip install pandas"
   ]
  },
  {
   "cell_type": "code",
   "execution_count": 7,
   "id": "a4512a21-de10-4113-8a99-3701d6e3742c",
   "metadata": {},
   "outputs": [],
   "source": [
    "import requests \n",
    "from bs4 import BeautifulSoup\n",
    "import random\n",
    "import pandas as pd"
   ]
  },
  {
   "cell_type": "code",
   "execution_count": 8,
   "id": "e4070b72-3c66-4397-8fc4-e40363afa69c",
   "metadata": {},
   "outputs": [],
   "source": [
    "title = \"Product Manager\"\n",
    "location = \"United States\""
   ]
  },
  {
   "cell_type": "code",
   "execution_count": 138,
   "id": "4be0511b-6efe-4a96-9a5c-a4e3fd48c886",
   "metadata": {},
   "outputs": [],
   "source": [
    "list_url = \"https://www.linkedin.com/jobs-guest/jobs/api/seeMoreJobPostings/search?keywords=Product%2BManager&f_TPR=r2592000&origin=JOB_SEARCH_PAGE_JOB_FILTER&sortBy=DD&geoId=102095887&start=0\"\n",
    "\n",
    "response = requests.get(list_url)\n",
    "\n",
    "list_data = response.text\n",
    "list_soup = BeautifulSoup(list_data, \"html.parser\")\n",
    "page_jobs = list_soup.find_all(\"li\")"
   ]
  },
  {
   "cell_type": "code",
   "execution_count": 137,
   "id": "ab92b243-6236-494b-8ae0-d777a1d94d03",
   "metadata": {},
   "outputs": [],
   "source": [
    "id_list = []"
   ]
  },
  {
   "cell_type": "code",
   "execution_count": 139,
   "id": "66e5a2c9-7e10-477a-a557-48645a93cfda",
   "metadata": {},
   "outputs": [
    {
     "name": "stdout",
     "output_type": "stream",
     "text": [
      "3920556927\n",
      "3885777445\n",
      "3837296750\n",
      "3837298409\n",
      "3811305804\n",
      "3707416059\n",
      "3929268366\n",
      "3707553559\n",
      "3933968861\n",
      "3938337067\n"
     ]
    }
   ],
   "source": [
    "\n",
    "for job in page_jobs:\n",
    "    base_card_div = job.find(\"div\", {\"class\": \"base-card\"})\n",
    "    job_id = base_card_div.get(\"data-entity-urn\").split(\":\")[3]\n",
    "    print(job_id)\n",
    "    id_list.append(job_id)"
   ]
  },
  {
   "cell_type": "code",
   "execution_count": 140,
   "id": "21030cdc-acb8-473d-b480-4f4554ab3f25",
   "metadata": {},
   "outputs": [
    {
     "data": {
      "text/plain": [
       "['3920556927',\n",
       " '3885777445',\n",
       " '3837296750',\n",
       " '3837298409',\n",
       " '3811305804',\n",
       " '3707416059',\n",
       " '3929268366',\n",
       " '3707553559',\n",
       " '3933968861',\n",
       " '3938337067']"
      ]
     },
     "execution_count": 140,
     "metadata": {},
     "output_type": "execute_result"
    }
   ],
   "source": [
    "id_list"
   ]
  },
  {
   "cell_type": "code",
   "execution_count": 130,
   "id": "7f68b3b9-820b-4c4d-b1bd-400ee27ce62b",
   "metadata": {},
   "outputs": [
    {
     "name": "stdout",
     "output_type": "stream",
     "text": [
      "200\n",
      "200\n",
      "200\n",
      "200\n",
      "200\n",
      "200\n",
      "200\n",
      "200\n",
      "200\n",
      "200\n"
     ]
    }
   ],
   "source": [
    "import time\n",
    "import requests\n",
    "from bs4 import BeautifulSoup\n",
    "\n",
    "job_list = []\n",
    "\n",
    "for job_id in id_list:\n",
    "    job_url = f\"https://www.linkedin.com/jobs-guest/jobs/api/jobPosting/{job_id}\"\n",
    "    job_response = requests.get(job_url)\n",
    "\n",
    "    if job_response.status_code == 429:\n",
    "        # If the status code is 429 (rate limit exceeded), wait for the specified time\n",
    "        retry_after = int(job_response.headers.get(\"Retry-After\", 10))  # Default to 10 seconds if header not present\n",
    "        print(f\"Rate limit exceeded. Waiting for {retry_after} seconds before retrying...\")\n",
    "        time.sleep(retry_after)\n",
    "        \n",
    "        # Make the request again\n",
    "        job_response = requests.get(job_url)\n",
    "\n",
    "    print(job_response.status_code)\n",
    "    job_soup = BeautifulSoup(job_response.text, \"html.parser\")\n",
    "    job_post = {}\n",
    "    try:\n",
    "        job_post[\"job_title\"] = job_soup.find(\"h2\", {\"class\": \"top-card-layout__title font-sans text-lg papabear:text-xl font-bold leading-open text-color-text mb-0 topcard__title\"}).text.strip()\n",
    "    except:\n",
    "        job_post[\"job_title\"] = None\n",
    "    try:\n",
    "        job_post[\"company_name\"] = job_soup.find(\"a\", {\"class\": \"topcard__org-name-link topcard__flavor--black-link\"}).text.strip()\n",
    "    except:\n",
    "        job_post[\"company_name\"] = None\n",
    "    try:\n",
    "        job_post[\"time_posted\"] = job_soup.find(\"span\", {\"class\": \"posted-time-ago__text topcard__flavor--metadata\"}).text.strip()\n",
    "    except:\n",
    "        job_post[\"time_posted\"] = None\n",
    "    try:\n",
    "        job_post[\"num_applicants\"] = job_soup.find(\"span\", {\"class\": \"num-applicants__caption topcard__flavor--metadata topcard__flavor--bullet\"}).text.strip()\n",
    "    except:\n",
    "        job_post[\"num_applicants\"] = None\n",
    "    try:\n",
    "        job_post[\"job_location\"] = job_soup.find(\"span\", {\"class\": \"topcard__flavor topcard__flavor--bullet\"}).text.strip()\n",
    "    except:\n",
    "        job_post[\"job_location\"] = None\n",
    "    try:\n",
    "        job_post[\"senority_level\"] = job_soup.find(\"span\", {\"class\": \"description__job-criteria-text description__job-criteria-text--criteria\"}).text.strip()\n",
    "    except:\n",
    "        job_post[\"seniority_level\"] = None\n",
    "\n",
    "    \n",
    "    job_list.append(job_post)"
   ]
  },
  {
   "cell_type": "code",
   "execution_count": 134,
   "id": "38651b8b-449e-4a6e-b60f-cc71077e02e8",
   "metadata": {
    "scrolled": true
   },
   "outputs": [
    {
     "data": {
      "text/plain": [
       "[{'job_title': 'Product Manager, YouTube Premium',\n",
       "  'company_name': 'Google',\n",
       "  'time_posted': '1 week ago',\n",
       "  'num_applicants': None,\n",
       "  'job_location': 'San Bruno, CA',\n",
       "  'senority_level': 'Not Applicable'},\n",
       " {'job_title': 'Product Manager, Games Personalization',\n",
       "  'company_name': 'Netflix',\n",
       "  'time_posted': '1 week ago',\n",
       "  'num_applicants': None,\n",
       "  'job_location': 'Los Gatos, CA',\n",
       "  'senority_level': 'Not Applicable'},\n",
       " {'job_title': 'Product Manager, Search',\n",
       "  'company_name': 'LinkedIn',\n",
       "  'time_posted': '2 weeks ago',\n",
       "  'num_applicants': None,\n",
       "  'job_location': 'Mountain View, CA',\n",
       "  'senority_level': 'Not Applicable'},\n",
       " {'job_title': 'Product Manager, WhatsApp',\n",
       "  'company_name': 'WhatsApp',\n",
       "  'time_posted': '2 weeks ago',\n",
       "  'num_applicants': None,\n",
       "  'job_location': 'San Francisco, CA',\n",
       "  'senority_level': 'Not Applicable'},\n",
       " {'job_title': 'Product Manager - TikTok Social',\n",
       "  'company_name': 'TikTok',\n",
       "  'time_posted': '2 weeks ago',\n",
       "  'num_applicants': None,\n",
       "  'job_location': 'Los Angeles, CA',\n",
       "  'senority_level': 'Not Applicable'},\n",
       " {'job_title': 'Product Manager I, Search',\n",
       "  'company_name': 'Google',\n",
       "  'time_posted': '3 days ago',\n",
       "  'num_applicants': None,\n",
       "  'job_location': 'Mountain View, CA',\n",
       "  'senority_level': 'Not Applicable'},\n",
       " {'job_title': 'Product Manager, WhatsApp',\n",
       "  'company_name': 'WhatsApp',\n",
       "  'time_posted': '2 weeks ago',\n",
       "  'num_applicants': None,\n",
       "  'job_location': 'Menlo Park, CA',\n",
       "  'senority_level': 'Not Applicable'},\n",
       " {'job_title': 'Product Manager',\n",
       "  'company_name': 'Meta',\n",
       "  'time_posted': '2 weeks ago',\n",
       "  'num_applicants': None,\n",
       "  'job_location': 'Los Angeles, CA',\n",
       "  'senority_level': 'Not Applicable'},\n",
       " {'job_title': 'Product Manager – Notifications',\n",
       "  'company_name': 'LinkedIn',\n",
       "  'time_posted': '2 weeks ago',\n",
       "  'num_applicants': None,\n",
       "  'job_location': 'Mountain View, CA',\n",
       "  'senority_level': 'Not Applicable'},\n",
       " {'job_title': 'Senior Product Manager',\n",
       "  'company_name': 'Attentive',\n",
       "  'time_posted': '2 weeks ago',\n",
       "  'num_applicants': None,\n",
       "  'job_location': 'San Francisco, CA',\n",
       "  'senority_level': 'Mid-Senior level'}]"
      ]
     },
     "execution_count": 134,
     "metadata": {},
     "output_type": "execute_result"
    }
   ],
   "source": [
    "job_list"
   ]
  },
  {
   "cell_type": "code",
   "execution_count": 132,
   "id": "6bfd5ff3-373d-452d-b7a7-f15887722897",
   "metadata": {},
   "outputs": [
    {
     "data": {
      "text/html": [
       "<div>\n",
       "<style scoped>\n",
       "    .dataframe tbody tr th:only-of-type {\n",
       "        vertical-align: middle;\n",
       "    }\n",
       "\n",
       "    .dataframe tbody tr th {\n",
       "        vertical-align: top;\n",
       "    }\n",
       "\n",
       "    .dataframe thead th {\n",
       "        text-align: right;\n",
       "    }\n",
       "</style>\n",
       "<table border=\"1\" class=\"dataframe\">\n",
       "  <thead>\n",
       "    <tr style=\"text-align: right;\">\n",
       "      <th></th>\n",
       "      <th>job_title</th>\n",
       "      <th>company_name</th>\n",
       "      <th>time_posted</th>\n",
       "      <th>num_applicants</th>\n",
       "      <th>job_location</th>\n",
       "      <th>senority_level</th>\n",
       "    </tr>\n",
       "  </thead>\n",
       "  <tbody>\n",
       "    <tr>\n",
       "      <th>0</th>\n",
       "      <td>Product Manager, YouTube Premium</td>\n",
       "      <td>Google</td>\n",
       "      <td>1 week ago</td>\n",
       "      <td>None</td>\n",
       "      <td>San Bruno, CA</td>\n",
       "      <td>Not Applicable</td>\n",
       "    </tr>\n",
       "    <tr>\n",
       "      <th>1</th>\n",
       "      <td>Product Manager, Games Personalization</td>\n",
       "      <td>Netflix</td>\n",
       "      <td>1 week ago</td>\n",
       "      <td>None</td>\n",
       "      <td>Los Gatos, CA</td>\n",
       "      <td>Not Applicable</td>\n",
       "    </tr>\n",
       "    <tr>\n",
       "      <th>2</th>\n",
       "      <td>Product Manager, Search</td>\n",
       "      <td>LinkedIn</td>\n",
       "      <td>2 weeks ago</td>\n",
       "      <td>None</td>\n",
       "      <td>Mountain View, CA</td>\n",
       "      <td>Not Applicable</td>\n",
       "    </tr>\n",
       "    <tr>\n",
       "      <th>3</th>\n",
       "      <td>Product Manager, WhatsApp</td>\n",
       "      <td>WhatsApp</td>\n",
       "      <td>2 weeks ago</td>\n",
       "      <td>None</td>\n",
       "      <td>San Francisco, CA</td>\n",
       "      <td>Not Applicable</td>\n",
       "    </tr>\n",
       "    <tr>\n",
       "      <th>4</th>\n",
       "      <td>Product Manager - TikTok Social</td>\n",
       "      <td>TikTok</td>\n",
       "      <td>2 weeks ago</td>\n",
       "      <td>None</td>\n",
       "      <td>Los Angeles, CA</td>\n",
       "      <td>Not Applicable</td>\n",
       "    </tr>\n",
       "    <tr>\n",
       "      <th>5</th>\n",
       "      <td>Product Manager I, Search</td>\n",
       "      <td>Google</td>\n",
       "      <td>3 days ago</td>\n",
       "      <td>None</td>\n",
       "      <td>Mountain View, CA</td>\n",
       "      <td>Not Applicable</td>\n",
       "    </tr>\n",
       "    <tr>\n",
       "      <th>6</th>\n",
       "      <td>Product Manager, WhatsApp</td>\n",
       "      <td>WhatsApp</td>\n",
       "      <td>2 weeks ago</td>\n",
       "      <td>None</td>\n",
       "      <td>Menlo Park, CA</td>\n",
       "      <td>Not Applicable</td>\n",
       "    </tr>\n",
       "    <tr>\n",
       "      <th>7</th>\n",
       "      <td>Product Manager</td>\n",
       "      <td>Meta</td>\n",
       "      <td>2 weeks ago</td>\n",
       "      <td>None</td>\n",
       "      <td>Los Angeles, CA</td>\n",
       "      <td>Not Applicable</td>\n",
       "    </tr>\n",
       "    <tr>\n",
       "      <th>8</th>\n",
       "      <td>Product Manager – Notifications</td>\n",
       "      <td>LinkedIn</td>\n",
       "      <td>2 weeks ago</td>\n",
       "      <td>None</td>\n",
       "      <td>Mountain View, CA</td>\n",
       "      <td>Not Applicable</td>\n",
       "    </tr>\n",
       "    <tr>\n",
       "      <th>9</th>\n",
       "      <td>Senior Product Manager</td>\n",
       "      <td>Attentive</td>\n",
       "      <td>2 weeks ago</td>\n",
       "      <td>None</td>\n",
       "      <td>San Francisco, CA</td>\n",
       "      <td>Mid-Senior level</td>\n",
       "    </tr>\n",
       "  </tbody>\n",
       "</table>\n",
       "</div>"
      ],
      "text/plain": [
       "                                job_title company_name  time_posted  \\\n",
       "0        Product Manager, YouTube Premium       Google   1 week ago   \n",
       "1  Product Manager, Games Personalization      Netflix   1 week ago   \n",
       "2                 Product Manager, Search     LinkedIn  2 weeks ago   \n",
       "3               Product Manager, WhatsApp     WhatsApp  2 weeks ago   \n",
       "4         Product Manager - TikTok Social       TikTok  2 weeks ago   \n",
       "5               Product Manager I, Search       Google   3 days ago   \n",
       "6               Product Manager, WhatsApp     WhatsApp  2 weeks ago   \n",
       "7                         Product Manager         Meta  2 weeks ago   \n",
       "8         Product Manager – Notifications     LinkedIn  2 weeks ago   \n",
       "9                  Senior Product Manager    Attentive  2 weeks ago   \n",
       "\n",
       "  num_applicants       job_location    senority_level  \n",
       "0           None      San Bruno, CA    Not Applicable  \n",
       "1           None      Los Gatos, CA    Not Applicable  \n",
       "2           None  Mountain View, CA    Not Applicable  \n",
       "3           None  San Francisco, CA    Not Applicable  \n",
       "4           None    Los Angeles, CA    Not Applicable  \n",
       "5           None  Mountain View, CA    Not Applicable  \n",
       "6           None     Menlo Park, CA    Not Applicable  \n",
       "7           None    Los Angeles, CA    Not Applicable  \n",
       "8           None  Mountain View, CA    Not Applicable  \n",
       "9           None  San Francisco, CA  Mid-Senior level  "
      ]
     },
     "execution_count": 132,
     "metadata": {},
     "output_type": "execute_result"
    }
   ],
   "source": [
    "jobs_df = pd.DataFrame(job_list)\n",
    "jobs_df"
   ]
  },
  {
   "cell_type": "code",
   "execution_count": 133,
   "id": "15813f41-5e2e-49f3-8dd3-dce3ef3edd45",
   "metadata": {},
   "outputs": [],
   "source": [
    "jobs_df.to_csv('United_States_Product_Manager.csv', index = False)\n"
   ]
  }
 ],
 "metadata": {
  "kernelspec": {
   "display_name": "Python 3 (ipykernel)",
   "language": "python",
   "name": "python3"
  },
  "language_info": {
   "codemirror_mode": {
    "name": "ipython",
    "version": 3
   },
   "file_extension": ".py",
   "mimetype": "text/x-python",
   "name": "python",
   "nbconvert_exporter": "python",
   "pygments_lexer": "ipython3",
   "version": "3.12.3"
  }
 },
 "nbformat": 4,
 "nbformat_minor": 5
}
