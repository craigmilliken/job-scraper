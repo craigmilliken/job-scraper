{
 "cells": [
  {
   "cell_type": "code",
   "execution_count": 5,
   "id": "d2c0f113-30b6-4310-ad7f-50ee48bb15aa",
   "metadata": {},
   "outputs": [
    {
     "name": "stdout",
     "output_type": "stream",
     "text": [
      "Collecting pandas\n",
      "  Downloading pandas-2.2.2-cp312-cp312-macosx_11_0_arm64.whl.metadata (19 kB)\n",
      "Requirement already satisfied: numpy>=1.26.0 in /opt/homebrew/lib/python3.12/site-packages (from pandas) (1.26.4)\n",
      "Requirement already satisfied: python-dateutil>=2.8.2 in /opt/homebrew/Cellar/jupyterlab/4.1.6_1/libexec/lib/python3.12/site-packages (from pandas) (2.9.0.post0)\n",
      "Collecting pytz>=2020.1 (from pandas)\n",
      "  Using cached pytz-2024.1-py2.py3-none-any.whl.metadata (22 kB)\n",
      "Collecting tzdata>=2022.7 (from pandas)\n",
      "  Using cached tzdata-2024.1-py2.py3-none-any.whl.metadata (1.4 kB)\n",
      "Requirement already satisfied: six>=1.5 in /opt/homebrew/Cellar/jupyterlab/4.1.6_1/libexec/lib/python3.12/site-packages (from python-dateutil>=2.8.2->pandas) (1.16.0)\n",
      "Downloading pandas-2.2.2-cp312-cp312-macosx_11_0_arm64.whl (11.3 MB)\n",
      "\u001b[2K   \u001b[38;2;114;156;31m━━━━━━━━━━━━━━━━━━━━━━━━━━━━━━━━━━━━━━━━\u001b[0m \u001b[32m11.3/11.3 MB\u001b[0m \u001b[31m26.0 MB/s\u001b[0m eta \u001b[36m0:00:00\u001b[0mm eta \u001b[36m0:00:01\u001b[0m[36m0:00:01\u001b[0m\n",
      "\u001b[?25hUsing cached pytz-2024.1-py2.py3-none-any.whl (505 kB)\n",
      "Using cached tzdata-2024.1-py2.py3-none-any.whl (345 kB)\n",
      "Installing collected packages: pytz, tzdata, pandas\n",
      "Successfully installed pandas-2.2.2 pytz-2024.1 tzdata-2024.1\n"
     ]
    }
   ],
   "source": [
    "import sys  \n",
    "!{sys.executable} -m pip install pandas"
   ]
  },
  {
   "cell_type": "code",
   "execution_count": 7,
   "id": "a4512a21-de10-4113-8a99-3701d6e3742c",
   "metadata": {},
   "outputs": [],
   "source": [
    "import requests \n",
    "from bs4 import BeautifulSoup\n",
    "import random\n",
    "import pandas as pd"
   ]
  },
  {
   "cell_type": "code",
   "execution_count": 8,
   "id": "e4070b72-3c66-4397-8fc4-e40363afa69c",
   "metadata": {},
   "outputs": [],
   "source": [
    "title = \"Product Manager\"\n",
    "location = \"United States\""
   ]
  },
  {
   "cell_type": "code",
   "execution_count": 9,
   "id": "4be0511b-6efe-4a96-9a5c-a4e3fd48c886",
   "metadata": {},
   "outputs": [],
   "source": [
    "list_url = \"https://www.linkedin.com/jobs-guest/jobs/api/seeMoreJobPostings/search?keywords=Product%2BManager&location=United%2BStates&start=120\"\n",
    "\n",
    "response = requests.get(list_url)\n",
    "\n",
    "list_data = response.text\n",
    "list_soup = BeautifulSoup(list_data, \"html.parser\")\n",
    "page_jobs = list_soup.find_all(\"li\")"
   ]
  },
  {
   "cell_type": "code",
   "execution_count": 10,
   "id": "ab92b243-6236-494b-8ae0-d777a1d94d03",
   "metadata": {},
   "outputs": [],
   "source": [
    "id_list = []"
   ]
  },
  {
   "cell_type": "code",
   "execution_count": 11,
   "id": "66e5a2c9-7e10-477a-a557-48645a93cfda",
   "metadata": {},
   "outputs": [
    {
     "name": "stdout",
     "output_type": "stream",
     "text": [
      "3944668599\n",
      "3945632970\n",
      "3937289445\n",
      "3933134640\n",
      "3940865810\n",
      "3947117951\n",
      "3941805244\n",
      "3940870697\n",
      "3943485443\n",
      "3934732794\n"
     ]
    }
   ],
   "source": [
    "\n",
    "for job in page_jobs:\n",
    "    base_card_div = job.find(\"div\", {\"class\": \"base-card\"})\n",
    "    job_id = base_card_div.get(\"data-entity-urn\").split(\":\")[3]\n",
    "    print(job_id)\n",
    "    id_list.append(job_id)"
   ]
  },
  {
   "cell_type": "code",
   "execution_count": 12,
   "id": "21030cdc-acb8-473d-b480-4f4554ab3f25",
   "metadata": {},
   "outputs": [
    {
     "data": {
      "text/plain": [
       "['3944668599',\n",
       " '3945632970',\n",
       " '3937289445',\n",
       " '3933134640',\n",
       " '3940865810',\n",
       " '3947117951',\n",
       " '3941805244',\n",
       " '3940870697',\n",
       " '3943485443',\n",
       " '3934732794']"
      ]
     },
     "execution_count": 12,
     "metadata": {},
     "output_type": "execute_result"
    }
   ],
   "source": [
    "id_list"
   ]
  },
  {
   "cell_type": "code",
   "execution_count": 13,
   "id": "7f68b3b9-820b-4c4d-b1bd-400ee27ce62b",
   "metadata": {},
   "outputs": [
    {
     "name": "stdout",
     "output_type": "stream",
     "text": [
      "200\n",
      "200\n",
      "200\n",
      "200\n",
      "200\n",
      "200\n",
      "200\n",
      "200\n",
      "200\n",
      "200\n"
     ]
    }
   ],
   "source": [
    "import time\n",
    "import requests\n",
    "from bs4 import BeautifulSoup\n",
    "\n",
    "job_list = []\n",
    "\n",
    "for job_id in id_list:\n",
    "    job_url = f\"https://www.linkedin.com/jobs-guest/jobs/api/jobPosting/{job_id}\"\n",
    "    job_response = requests.get(job_url)\n",
    "\n",
    "    if job_response.status_code == 429:\n",
    "        # If the status code is 429 (rate limit exceeded), wait for the specified time\n",
    "        retry_after = int(job_response.headers.get(\"Retry-After\", 10))  # Default to 10 seconds if header not present\n",
    "        print(f\"Rate limit exceeded. Waiting for {retry_after} seconds before retrying...\")\n",
    "        time.sleep(retry_after)\n",
    "        \n",
    "        # Make the request again\n",
    "        job_response = requests.get(job_url)\n",
    "\n",
    "    print(job_response.status_code)\n",
    "    job_soup = BeautifulSoup(job_response.text, \"html.parser\")\n",
    "    job_post = {}\n",
    "    try:\n",
    "        job_post[\"job_title\"] = job_soup.find(\"h2\", {\"class\": \"top-card-layout__title font-sans text-lg papabear:text-xl font-bold leading-open text-color-text mb-0 topcard__title\"}).text.strip()\n",
    "    except:\n",
    "        job_post[\"job_title\"] = None\n",
    "    try:\n",
    "        job_post[\"company_name\"] = job_soup.find(\"a\", {\"class\": \"topcard__org-name-link topcard__flavor--black-link\"}).text.strip()\n",
    "    except:\n",
    "        job_post[\"company_name\"] = None\n",
    "    try:\n",
    "        job_post[\"time_posted\"] = job_soup.find(\"span\", {\"class\": \"posted-time-ago__text topcard__flavor--metadata\"}).text.strip()\n",
    "    except:\n",
    "        job_post[\"time_posted\"] = None\n",
    "    try:\n",
    "        job_post[\"num_applicants\"] = job_soup.find(\"span\", {\"class\": \"num-applicants__caption topcard__flavor--metadata topcard__flavor--bullet\"}).text.strip()\n",
    "    except:\n",
    "        job_post[\"num_applicants\"] = None\n",
    "    \n",
    "    job_list.append(job_post)"
   ]
  },
  {
   "cell_type": "code",
   "execution_count": 14,
   "id": "38651b8b-449e-4a6e-b60f-cc71077e02e8",
   "metadata": {},
   "outputs": [
    {
     "data": {
      "text/plain": [
       "[{'job_title': 'Lead Product Manager, Payments',\n",
       "  'company_name': 'Gemini',\n",
       "  'time_posted': '4 days ago',\n",
       "  'num_applicants': None},\n",
       " {'job_title': 'Senior Manager, Product Technical Services',\n",
       "  'company_name': 'LinkedIn',\n",
       "  'time_posted': '4 days ago',\n",
       "  'num_applicants': '58 applicants'},\n",
       " {'job_title': 'Product Manager (US remote, EST only)',\n",
       "  'company_name': 'Digimarc',\n",
       "  'time_posted': '1 week ago',\n",
       "  'num_applicants': '114 applicants'},\n",
       " {'job_title': 'Product Manager',\n",
       "  'company_name': 'Mach7 Technologies',\n",
       "  'time_posted': '2 weeks ago',\n",
       "  'num_applicants': None},\n",
       " {'job_title': 'Platform Product Manager, Standards',\n",
       "  'company_name': 'Airbnb',\n",
       "  'time_posted': '4 days ago',\n",
       "  'num_applicants': None},\n",
       " {'job_title': 'Product Manager',\n",
       "  'company_name': 'Motion Recruitment',\n",
       "  'time_posted': '1 day ago',\n",
       "  'num_applicants': '75 applicants'},\n",
       " {'job_title': 'Product Manager',\n",
       "  'company_name': 'Oracle',\n",
       "  'time_posted': '3 days ago',\n",
       "  'num_applicants': '139 applicants'},\n",
       " {'job_title': 'Product Manager',\n",
       "  'company_name': 'Microsoft',\n",
       "  'time_posted': '4 days ago',\n",
       "  'num_applicants': '93 applicants'},\n",
       " {'job_title': 'Product Manager',\n",
       "  'company_name': 'Steneral Consulting',\n",
       "  'time_posted': '5 days ago',\n",
       "  'num_applicants': None},\n",
       " {'job_title': 'Product Manager',\n",
       "  'company_name': 'CONMED Corporation',\n",
       "  'time_posted': '2 weeks ago',\n",
       "  'num_applicants': None}]"
      ]
     },
     "execution_count": 14,
     "metadata": {},
     "output_type": "execute_result"
    }
   ],
   "source": [
    "job_list"
   ]
  },
  {
   "cell_type": "code",
   "execution_count": 15,
   "id": "6bfd5ff3-373d-452d-b7a7-f15887722897",
   "metadata": {},
   "outputs": [
    {
     "data": {
      "text/html": [
       "<div>\n",
       "<style scoped>\n",
       "    .dataframe tbody tr th:only-of-type {\n",
       "        vertical-align: middle;\n",
       "    }\n",
       "\n",
       "    .dataframe tbody tr th {\n",
       "        vertical-align: top;\n",
       "    }\n",
       "\n",
       "    .dataframe thead th {\n",
       "        text-align: right;\n",
       "    }\n",
       "</style>\n",
       "<table border=\"1\" class=\"dataframe\">\n",
       "  <thead>\n",
       "    <tr style=\"text-align: right;\">\n",
       "      <th></th>\n",
       "      <th>job_title</th>\n",
       "      <th>company_name</th>\n",
       "      <th>time_posted</th>\n",
       "      <th>num_applicants</th>\n",
       "    </tr>\n",
       "  </thead>\n",
       "  <tbody>\n",
       "    <tr>\n",
       "      <th>0</th>\n",
       "      <td>Lead Product Manager, Payments</td>\n",
       "      <td>Gemini</td>\n",
       "      <td>4 days ago</td>\n",
       "      <td>None</td>\n",
       "    </tr>\n",
       "    <tr>\n",
       "      <th>1</th>\n",
       "      <td>Senior Manager, Product Technical Services</td>\n",
       "      <td>LinkedIn</td>\n",
       "      <td>4 days ago</td>\n",
       "      <td>58 applicants</td>\n",
       "    </tr>\n",
       "    <tr>\n",
       "      <th>2</th>\n",
       "      <td>Product Manager (US remote, EST only)</td>\n",
       "      <td>Digimarc</td>\n",
       "      <td>1 week ago</td>\n",
       "      <td>114 applicants</td>\n",
       "    </tr>\n",
       "    <tr>\n",
       "      <th>3</th>\n",
       "      <td>Product Manager</td>\n",
       "      <td>Mach7 Technologies</td>\n",
       "      <td>2 weeks ago</td>\n",
       "      <td>None</td>\n",
       "    </tr>\n",
       "    <tr>\n",
       "      <th>4</th>\n",
       "      <td>Platform Product Manager, Standards</td>\n",
       "      <td>Airbnb</td>\n",
       "      <td>4 days ago</td>\n",
       "      <td>None</td>\n",
       "    </tr>\n",
       "    <tr>\n",
       "      <th>5</th>\n",
       "      <td>Product Manager</td>\n",
       "      <td>Motion Recruitment</td>\n",
       "      <td>1 day ago</td>\n",
       "      <td>75 applicants</td>\n",
       "    </tr>\n",
       "    <tr>\n",
       "      <th>6</th>\n",
       "      <td>Product Manager</td>\n",
       "      <td>Oracle</td>\n",
       "      <td>3 days ago</td>\n",
       "      <td>139 applicants</td>\n",
       "    </tr>\n",
       "    <tr>\n",
       "      <th>7</th>\n",
       "      <td>Product Manager</td>\n",
       "      <td>Microsoft</td>\n",
       "      <td>4 days ago</td>\n",
       "      <td>93 applicants</td>\n",
       "    </tr>\n",
       "    <tr>\n",
       "      <th>8</th>\n",
       "      <td>Product Manager</td>\n",
       "      <td>Steneral Consulting</td>\n",
       "      <td>5 days ago</td>\n",
       "      <td>None</td>\n",
       "    </tr>\n",
       "    <tr>\n",
       "      <th>9</th>\n",
       "      <td>Product Manager</td>\n",
       "      <td>CONMED Corporation</td>\n",
       "      <td>2 weeks ago</td>\n",
       "      <td>None</td>\n",
       "    </tr>\n",
       "  </tbody>\n",
       "</table>\n",
       "</div>"
      ],
      "text/plain": [
       "                                    job_title         company_name  \\\n",
       "0              Lead Product Manager, Payments               Gemini   \n",
       "1  Senior Manager, Product Technical Services             LinkedIn   \n",
       "2       Product Manager (US remote, EST only)             Digimarc   \n",
       "3                             Product Manager   Mach7 Technologies   \n",
       "4         Platform Product Manager, Standards               Airbnb   \n",
       "5                             Product Manager   Motion Recruitment   \n",
       "6                             Product Manager               Oracle   \n",
       "7                             Product Manager            Microsoft   \n",
       "8                             Product Manager  Steneral Consulting   \n",
       "9                             Product Manager   CONMED Corporation   \n",
       "\n",
       "   time_posted  num_applicants  \n",
       "0   4 days ago            None  \n",
       "1   4 days ago   58 applicants  \n",
       "2   1 week ago  114 applicants  \n",
       "3  2 weeks ago            None  \n",
       "4   4 days ago            None  \n",
       "5    1 day ago   75 applicants  \n",
       "6   3 days ago  139 applicants  \n",
       "7   4 days ago   93 applicants  \n",
       "8   5 days ago            None  \n",
       "9  2 weeks ago            None  "
      ]
     },
     "execution_count": 15,
     "metadata": {},
     "output_type": "execute_result"
    }
   ],
   "source": [
    "jobs_df = pd.DataFrame(job_list)\n",
    "jobs_df"
   ]
  },
  {
   "cell_type": "code",
   "execution_count": 16,
   "id": "15813f41-5e2e-49f3-8dd3-dce3ef3edd45",
   "metadata": {},
   "outputs": [],
   "source": [
    "jobs_df.to_csv('United_States_Product_Manager.csv', index = False)\n"
   ]
  }
 ],
 "metadata": {
  "kernelspec": {
   "display_name": "Python 3 (ipykernel)",
   "language": "python",
   "name": "python3"
  },
  "language_info": {
   "codemirror_mode": {
    "name": "ipython",
    "version": 3
   },
   "file_extension": ".py",
   "mimetype": "text/x-python",
   "name": "python",
   "nbconvert_exporter": "python",
   "pygments_lexer": "ipython3",
   "version": "3.12.3"
  }
 },
 "nbformat": 4,
 "nbformat_minor": 5
}
